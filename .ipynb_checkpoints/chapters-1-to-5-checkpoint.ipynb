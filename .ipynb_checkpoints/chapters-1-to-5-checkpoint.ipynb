{
 "cells": [
  {
   "cell_type": "markdown",
   "metadata": {},
   "source": [
    "## Mathematical Ecology (Kot 2010)"
   ]
  },
  {
   "cell_type": "code",
   "execution_count": 12,
   "metadata": {},
   "outputs": [],
   "source": [
    "#Get relevant modules\n",
    "import sympy as sym\n",
    "import pandas as pd\n",
    "import numpy as np\n",
    "\n",
    "#declare variable to use as letter in functions\n",
    "N, r = sp.symbols('N, r')"
   ]
  },
  {
   "cell_type": "code",
   "execution_count": 8,
   "metadata": {},
   "outputs": [
    {
     "data": {
      "text/latex": [
       "$\\displaystyle 5 N^{4}$"
      ],
      "text/plain": [
       "5*N**4"
      ]
     },
     "execution_count": 8,
     "metadata": {},
     "output_type": "execute_result"
    }
   ],
   "source": [
    "sym.diff(N**5) #derrivative of N^5"
   ]
  },
  {
   "cell_type": "markdown",
   "metadata": {},
   "source": [
    "### Chapter 1 - Exponential, Logistic, and Gompertz Growth\n",
    "\n",
    "This is all review, but will use this to get the hang of doing this in Python. \n",
    "\n",
    "Simple exponential growth can be written as $\\frac{dN}{dt} = rN$, where the simple integration leads to $N(t) = N_0e^{rt}$. Here, the per capita growth rate remains constant for all population sizes: crowding has no effect on these individuals. \n",
    "\n",
    "In this system, because it is unbounded in growth, there is only one equilibrium, $N^* = 0$. As long as $r > 0$, the equilibrium is unstable, and for $r < 0$, the equilibrium is asymptotically stable. \n",
    "\n",
    "However, this is a simplistic model and not one well-equiped to bound population growth, either by density-dependence (intrinsic) nor by environmental factors (extrinsic). If we consider a model where the per capita growth rate falls linearly with population size, this can be thought of as density-dependent regulation, and formulated as $\\frac{dN}{dt} = rN(1-\\frac{N}{K})$. This is known as the Pearl-Verhulst equation, and has an exact anlytical solution. The two equilibria, N* = 0 and N* = K, both have growth rates = 0. Near N* = 0, $N^2/K$ is small compared to N, so that $\\frac{dN}{dt} = rN$. For r > 0, N* = 0 is unstable.  "
   ]
  },
  {
   "cell_type": "markdown",
   "metadata": {},
   "source": [
    "#### Problem 1.2 \n",
    "\n",
    "**Find the exact solution of the logistic equation by a) treating the logistic equation as a separable equation, and b) treating the logistic equation as a Bernoulli equation.**\n",
    "\n",
    "a) A separable differential equation can be written in the form $y'= f(x)g(y)$. To sole:\n",
    "1. Cehck for any values of $y$ that make $g(y) = 0$. These correspond to the constant solutions. \n",
    "2. Rewrite the differential equation in the form $$\\frac{dy}{g(y)} = f(x)dx$$.\n",
    "3. Integrate both sides of the equation. \n",
    "4. Solve the resulting equation for $y$ if possible. \n",
    "5. If an initial condition exists, substitute the appropriate values for $x$ and $y$ into the equation and solve for the constant. \n",
    "\n",
    "To do this for the logistic equation, $\\frac{dN}{dt} = rN(1-\\frac{N}{K})$, \n",
    "1. Setting the right hand side to zero, gives $P = 0 or P = K$ as constant solutions. \n",
    "2. \n",
    "    a) rewrite equation $\\frac{dN}{dt} = \\frac{rN(K-N}{K})$\n",
    "    b) multiply both sides by $dt$ and divide by $N(K-N)$, which gives: $$\\frac{dN}{N(K-N)} = \\frac{r}{K}dt.$$\n",
    "    c) multiply by $K$ and integrate both sides: $$\\int \\frac{K}{N(K-N)}dN = \\int rdt.$$\n",
    "    d) that becomes $$\\int \\frac{1}{N} + \\frac{1}{K-N}dN = \\int rdt.$$ $$ln|N| - ln|K-N| = rt + C$$ $$ln|\\frac{N}{K-N}| = rt+C.$$\n",
    "    e) exponentiate both sides: $$e^{ln|\\frac{N}{K-N}|} = e^{rc+C}$$ $$|\\frac{N}{K-N}| = e^C e^{rt}.$$\n",
    "    f) $C_1 = e^c$, so $$\\frac{N}{K-N} = C_1e^{rt}$$\n",
    "    g) To solve for $N(t)$, $$N = C_1e(K-N)$$ $$=C_1Ke^{rt} - C_1Pe^{rt}$$ $$N+C_1Ne^{rt} = C_1Ke^{rt}$$\n",
    "    h) factor and divide, giving $$N(t) = \\frac{C_1Ke^{rt}}{1+C_1e^{rt}}$$\n",
    "    i) to get $C_1$, sub t = 0, and $N_0$ and solve which gives $$C_1 = \\frac{N_0}{K-N_0}$$\n",
    "    j) now sub expression for $C_1$ into the equation, multiply denomentator and numerator of right hand side by $(K-N_0)$ and simplify: $$N(t) = \\frac{\\frac{N_0}{K-N_0}Ke^{rt}}{1+\\frac{N_0}{K-N_0}e^{rt}}$$ $$= \\frac{\\frac{N_0}{K-N_0}Ke^{rt}}{1+\\frac{N_0}{K-N_0}e^{rt}} * \\frac{K-N_0}{K-N_0} = \\frac{N_0Ke^{rt}}{(K-N_0)+N_0e^{rt}}$$\n",
    "    \n",
    "That was disgusting. I won't be doing it as a Bernoulli. \n"
   ]
  },
  {
   "cell_type": "markdown",
   "metadata": {},
   "source": [
    "Thinking about when N* = K, we an use a new variable that measures the deviation of N from K: $$x \\equiv N = K$$, and substituting $N = K + x$ into the logistic equation gives us $$\\frac{dx}{dt} = -rx -\\frac{r}{K}x^2$$, and since $x$ is small for $N$ close to $K$, we have $$\\frac{dx}{dt} \\approx -rx$$. For $r>0$, small perturbations about N* = K *decay* exponentially; the equilibrium $N* = K$ is assymptotically stable. For positive $r$, solutions to the logistic equation are essentially a combination of exponential growth, close to zero, and of exponential decay, close to the carrying capacity. \n",
    "\n",
    "To find the inflection point between the origin and the carrying capacity, we can set both sides of the logistic equation equal to zero $$\\frac{d^2N}{dt^2} = r(1 - \\frac{2N}{K} \\frac{dN}{dt} = 0.$$ And the inflection point is at $N = K/2$. "
   ]
  },
  {
   "cell_type": "markdown",
   "metadata": {},
   "source": [
    "#### Some Definitions\n",
    "\n",
    "**Equilibrium point (aka fixed point, critical point, rest point)**: We say that $N=N^*$ is an *equilibrium point* if $f(N^*) = 0$. \n",
    "\n",
    "**Lyapunov stable**: An equilibrium point $N^*$ is *Lyapunov stable* if, for any arbitrarily small $\\epsilon > 0$, there exists a $\\delta > 0$ (depending on $\\epsilon$) such that, for all initial conditions $N(t_0) = N_0$ satisfying $|N_0 - N^*| < \\delta$, we have $|N_0 - N^*| < \\epsilon$ for all $t > t_0$. In lay terms, an equilibrium is stable if starting close guarantees that you stay close. \n",
    "\n",
    "**Asymptotically stable**: An equilibrium point $N^*$ is *assymptotically stable* (in the sense of Lyapunov) if it is stable and if there exists a $\\rho > 0$ such that $$lim_{t \\to \\infty} |N(t) - N^*| = 0$$ for all $N_0$ satisfying $|N_0 - N^*| < \\rho$. Which means that an equilibrium is *asymptotically stable* if all sufficiently small initial deviations produce small excursions that eventially return to the equilibrium. \n",
    "\n",
    "As a **theorem**, note that if N^* is an equilbirium point, and $f(N)$ is continuously differntiable, suppose $f'(N^*) \\neq 0$. Then the equilibrium point $N^*$ is asymptotically stable if $f'(N^*) < 0$, and unstable if $f'(N^*) > 0$. "
   ]
  },
  {
   "cell_type": "markdown",
   "metadata": {},
   "source": [
    "#### Gompertz equation\n",
    "\n",
    "The gompertz equation was formulated as a law of decreasing survivorship, and exhibits many of the same properties as the logistic equation. "
   ]
  },
  {
   "cell_type": "markdown",
   "metadata": {},
   "source": [
    "### Chapter 2 - Exponential, Logistic, and Gompertz Growth\n"
   ]
  }
 ],
 "metadata": {
  "kernelspec": {
   "display_name": "Python 3",
   "language": "python",
   "name": "python3"
  },
  "language_info": {
   "codemirror_mode": {
    "name": "ipython",
    "version": 3
   },
   "file_extension": ".py",
   "mimetype": "text/x-python",
   "name": "python",
   "nbconvert_exporter": "python",
   "pygments_lexer": "ipython3",
   "version": "3.7.4"
  }
 },
 "nbformat": 4,
 "nbformat_minor": 2
}
