{
 "cells": [
  {
   "cell_type": "markdown",
   "metadata": {},
   "source": [
    "## Mathematical Ecology (Kot 2010)"
   ]
  },
  {
   "cell_type": "code",
   "execution_count": 12,
   "metadata": {},
   "outputs": [],
   "source": [
    "#Get relevant modules\n",
    "import sympy as sym\n",
    "import pandas as pd\n",
    "import numpy as np\n",
    "\n",
    "#declare variable to use as letter in functions\n",
    "N, r = sp.symbols('N, r')"
   ]
  },
  {
   "cell_type": "code",
   "execution_count": 8,
   "metadata": {},
   "outputs": [
    {
     "data": {
      "text/latex": [
       "$\\displaystyle 5 N^{4}$"
      ],
      "text/plain": [
       "5*N**4"
      ]
     },
     "execution_count": 8,
     "metadata": {},
     "output_type": "execute_result"
    }
   ],
   "source": [
    "sym.diff(N**5) #derrivative of N^5"
   ]
  },
  {
   "cell_type": "markdown",
   "metadata": {},
   "source": [
    "### Chapter 1 - Exponential, Logistic, and Gompertz Growth\n",
    "\n",
    "This is all review, but will use this to get the hang of doing this in Python. \n",
    "\n",
    "Simple exponential growth can be written as $\\frac{dN}{dt} = rN$, where the simple integration leads to $N(t) = N_0e^{rt}$. Here, the per capita growth rate remains constant for all population sizes: crowding has no effect on these individuals. \n",
    "\n",
    "In this system, because it is unbounded in growth, there is only one equilibrium, $N^* = 0$. As long as $r > 0$, the equilibrium is unstable, and for $r < 0$, the equilibrium is asymptotically stable. \n",
    "\n",
    "However, this is a simplistic model and not one well-equiped to bound population growth, either by density-dependence (intrinsic) nor by environmental factors (extrinsic). If we consider a model where the per capita growth rate falls linearly with population size, this can be thought of as density-dependent regulation, and formulated as $\\frac{dN}{dt} = rN(1-\\frac{N}{K})$. This is known as the Pearl-Verhulst equation, and has an exact anlytical solution. The two equilibria, N* = 0 and N* = K, both have growth rates = 0. Near N* = 0, $N^2/K$ is small compared to N, so that $\\frac{dN}{dt} = rN$. For r > 0, N* = 0 is unstable.  "
   ]
  },
  {
   "cell_type": "markdown",
   "metadata": {},
   "source": [
    "#### Problem 1.2 \n",
    "\n",
    "**Find the exact solution of the logistic equation by a) treating the logistic equation as a separable equation, and b) treating the logistic equation as a Bernoulli equation.**\n",
    "\n",
    "a) A separable differential equation can be written in the form $y'= f(x)g(y)$. To sole:\n",
    "1. Cehck for any values of $y$ that make $g(y) = 0$. These correspond to the constant solutions. \n",
    "2. Rewrite the differential equation in the form $$\\frac{dy}{g(y)} = f(x)dx$$.\n",
    "3. Integrate both sides of the equation. \n",
    "4. Solve the resulting equation for $y$ if possible. \n",
    "5. If an initial condition exists, substitute the appropriate values for $x$ and $y$ into the equation and solve for the constant. \n",
    "\n",
    "To do this for the logistic equation, $\\frac{dN}{dt} = rN(1-\\frac{N}{K})$, \n",
    "1. Setting the right hand side to zero, gives $P = 0 or P = K$ as constant solutions. \n",
    "2. \n",
    "    a) rewrite equation $\\frac{dN}{dt} = \\frac{rN(K-N}{K})$\n",
    "    b) multiply both sides by $dt$ and divide by $N(K-N)$, which gives: $$\\frac{dN}{N(K-N)} = \\frac{r}{K}dt.$$\n",
    "    c) multiply by $K$ and integrate both sides: $$\\int \\frac{K}{N(K-N)}dN = \\int rdt.$$\n",
    "    d) that becomes $$\\int \\frac{1}{N} + \\frac{1}{K-N}dN = \\int rdt.$$ $$ln|N| - ln|K-N| = rt + C$$ $$ln|\\frac{N}{K-N}| = rt+C.$$\n",
    "    e) exponentiate both sides: $$e^{ln|\\frac{N}{K-N}|} = e^{rc+C}$$ $$|\\frac{N}{K-N}| = e^C e^{rt}.$$\n",
    "    f) $C_1 = e^c$, so $$\\frac{N}{K-N} = C_1e^{rt}$$\n",
    "    g) To solve for $N(t)$, $$N = C_1e(K-N)$$ $$=C_1Ke^{rt} - C_1Pe^{rt}$$ $$N+C_1Ne^{rt} = C_1Ke^{rt}$$\n",
    "    h) factor and divide, giving $$N(t) = \\frac{C_1Ke^{rt}}{1+C_1e^{rt}}$$\n",
    "    i) to get $C_1$, sub t = 0, and $N_0$ and solve which gives $$C_1 = \\frac{N_0}{K-N_0}$$\n",
    "    j) now sub expression for $C_1$ into the equation, multiply denomentator and numerator of right hand side by $(K-N_0)$ and simplify: $$N(t) = \\frac{\\frac{N_0}{K-N_0}Ke^{rt}}{1+\\frac{N_0}{K-N_0}e^{rt}}$$ $$= \\frac{\\frac{N_0}{K-N_0}Ke^{rt}}{1+\\frac{N_0}{K-N_0}e^{rt}} * \\frac{K-N_0}{K-N_0} = \\frac{N_0Ke^{rt}}{(K-N_0)+N_0e^{rt}}$$\n",
    "    \n",
    "That was disgusting. I won't be doing it as a Bernoulli. \n"
   ]
  },
  {
   "cell_type": "markdown",
   "metadata": {},
   "source": [
    "Thinking about when N* = K, we an use a new variable that measures the deviation of N from K: $$x \\equiv N = K$$, and substituting $N = K + x$ into the logistic equation gives us $$\\frac{dx}{dt} = -rx -\\frac{r}{K}x^2$$, and since $x$ is small for $N$ close to $K$, we have $$\\frac{dx}{dt} \\approx -rx$$. For $r>0$, small perturbations about N* = K *decay* exponentially; the equilibrium $N* = K$ is assymptotically stable. For positive $r$, solutions to the logistic equation are essentially a combination of exponential growth, close to zero, and of exponential decay, close to the carrying capacity. \n",
    "\n",
    "To find the inflection point between the origin and the carrying capacity, we can set both sides of the logistic equation equal to zero $$\\frac{d^2N}{dt^2} = r(1 - \\frac{2N}{K} \\frac{dN}{dt} = 0.$$ And the inflection point is at $N = K/2$. "
   ]
  },
  {
   "cell_type": "markdown",
   "metadata": {},
   "source": [
    "#### Some Definitions\n",
    "\n",
    "**Equilibrium point (aka fixed point, critical point, rest point)**: We say that $N=N^*$ is an *equilibrium point* if $f(N^*) = 0$. \n",
    "\n",
    "**Lyapunov stable**: An equilibrium point $N^*$ is *Lyapunov stable* if, for any arbitrarily small $\\epsilon > 0$, there exists a $\\delta > 0$ (depending on $\\epsilon$) such that, for all initial conditions $N(t_0) = N_0$ satisfying $|N_0 - N^*| < \\delta$, we have $|N_0 - N^*| < \\epsilon$ for all $t > t_0$. In lay terms, an equilibrium is stable if starting close guarantees that you stay close. \n",
    "\n",
    "**Asymptotically stable**: An equilibrium point $N^*$ is *assymptotically stable* (in the sense of Lyapunov) if it is stable and if there exists a $\\rho > 0$ such that \n",
    "$$lim_{t \\to \\infty} |N(t) - N^*| = 0$$ \n",
    "for all $N_0$ satisfying $|N_0 - N^*| < \\rho$. Which means that an equilibrium is *asymptotically stable* if all sufficiently small initial deviations produce small excursions that eventially return to the equilibrium. \n",
    "\n",
    "As a **theorem**, note that if N^* is an equilbirium point, and $f(N)$ is continuously differntiable, suppose $f'(N^*) \\neq 0$. Then the equilibrium point $N^*$ is asymptotically stable if $f'(N^*) < 0$, and unstable if $f'(N^*) > 0$. "
   ]
  },
  {
   "cell_type": "markdown",
   "metadata": {},
   "source": [
    "#### Gompertz equation\n",
    "\n",
    "The gompertz equation was formulated as a law of decreasing survivorship, and exhibits many of the same properties as the logistic equation. "
   ]
  },
  {
   "cell_type": "markdown",
   "metadata": {},
   "source": [
    "### Chapter 2 - Exponential, Logistic, and Gompertz Growth\n"
   ]
  },
  {
   "cell_type": "markdown",
   "metadata": {},
   "source": [
    "### Chapter 3 - Stochastic birth & death processes\n",
    "\n",
    "There are elements of chance which affect growth of populations. These elements of chance can enter environmentally or demographically. \n",
    "\n",
    "The stochastic analog of an equilibrium in a nonlinear determinsitic model is a *statistically stationary state*, a limiting equilibrium distribution of population sizes. In most closed density-dependent birth and death processes, there is only one (trivial) stationary state. Even so, many nonlinear processes have two time scales. Over the short term, populations approach a *statistically quasistationary state*. This is a stationary state for a conditional probability distribution - conditional on no extinction. But over the long term, this quasi-stationary state 'leaks' to extinction. Sometimes we can determin the mean time to extinction. \n",
    "\n",
    "#### Linear Birth Process\n",
    "\n",
    "The Yule-Furry process is a Markov process - the future is independent of the past, given the present - with a continuous parameter (time). The state space is the potential number of individuals in the population at any instant. The markove process is referred to as a continuous-time *Markov chain*. \n",
    "\n",
    "Here, we have $$ p_n(t) = P[N(t) = n], n = 0, 1, 2,...,$$ which represents the probability that the population size, $N(t)$, takes the value $n$. To allow births, we assume each individual can give birth to new individuals, and that each individual acts independently of all others. For a single individual, \n",
    "\n",
    "$$P \\{ \\text{1 birth in } (t,\\; t + \\Delta t]\\; |\\; N(t) = 1\\} = \\beta \\Delta t + o(\\Delta t),$$ $$P \\{ \\text{>1 birth in } (t,\\; t + \\Delta t]\\; |\\; N(t) = 1\\} = o(\\Delta t),$$ and $$P \\{ \\text{0 births in } (t,\\; t + \\Delta t]\\; |\\; N(t) = 1\\} = 1 - \\beta \\Delta t + o(\\Delta t).$$\n",
    "\n",
    "What this means is the probability of a birth to an individual in some small time is *proportional to that time* and the probability of more than one birth is *higher order in that time*. The order symbol $o(\\Delta t)$ denotes quantities for which: \n",
    "$$\\lim_{\\Delta t \\to 0} \\frac{o(\\Delta t)}{\\Delta t} = 0.$$\n",
    "\n",
    "That can be expanded to represent the case where there is only one birth in a population of n individuals as: \n",
    "\n",
    "$$P \\{ \\text{1 birth in } (t,\\; t + \\Delta t]\\; |\\; N(t) = n\\} = n[\\beta \\Delta t + o(\\Delta t)][1 - \\beta\\Delta t + o(\\Delta t)]^{n-1} = n\\beta\\Delta t + o(\\Delta t)$$\n",
    "\n",
    "and the other probabilities (>1 birth or zero births) are = $o(\\Delta t)$ for >1 and $1 - n\\beta\\Delta t + o(\\Delta t)$ for zero births. \n",
    "\n",
    "Now, for $p_n(t)$, there can be $n$ individuals at time $t + \\Delta t$ if there were $n - 1$ individuals at time $t$ and one birth occured, or if there were already $n$ individuals at time $t$ and no births occured:\n",
    "\n",
    "$$ p_n(t + \\Delta t) = p_{n-1}(\\Delta t) P\\{ \\text{1 birth in } (t,\\; t + \\Delta t]\\; |\\; N(t) = n-1\\} + p_n(t) P \\{ \\text{0 births in } (t,\\; t + \\Delta t]\\; |\\; N(t) = n\\}.$$\n",
    "\n",
    "This gives:\n",
    "\n",
    "$$ p_n(t + \\Delta t) = (n - 1)\\beta\\Delta t p_{n-1}(t) + (1 - n\\beta\\Delta t) p_n(t) + o(\\Delta t)$$. \n",
    "\n",
    "Which can be algebraically rearranged and expressed (as the limit of $\\Delta t$ goes to zero), as:\n",
    "\n",
    "$$\\frac{dp_n}{dt} = -n\\beta p_n + (n-1)\\beta p_{n-1}$$. \n",
    "\n",
    "Which must be augmented with the iniital condition:\n",
    "\n",
    "$$ p_n(0) = \n",
    "\\begin{cases}\n",
    "1,\\ \\ n = n_0,\\\\\n",
    "0, \\ \\ n \\neq n_0 \\\\\n",
    "\\end{cases}$$\n",
    "\n",
    "and since this is a pure birth process,\n",
    "\n",
    "$$ p_n(t) = 0, n < n_0$$\n",
    "\n",
    "Note that for a process where we ask what the probability of staying at $n_0$ is, this probability decreases exponentially with time. And the probability decreases more rapidly for large initial conditions and for large birth rates. This is represented by\n",
    "\n",
    "$$\\frac{dp_{n_0}}{dt} = -\\beta n_0 p_{n_0},$$\n",
    "$$p_{n_0}(0) = 1.$$\n",
    "\n",
    "Which has the solution:\n",
    "\n",
    "$$p_{n_0}(t) = e^{-\\beta n_0 t}$$\n",
    "\n",
    "For the probability of being at $n_0 + 1$, the solution is\n",
    "\n",
    "$$ p_{n_0 + 1}(t) = n_0 e^{-\\beta n_0 t} (1 - e^{-\\beta t})$$\n",
    "\n",
    "Here, the probability starts at 0, for t = 0, and as t increases, the probability of $n_0 + 1$ individuals first increases but then decreases as added births occur. \n",
    "\n",
    "For the general case, \n",
    "\n",
    "$$p_n(t) = \\begin{pmatrix} n-1 \\\\ n_0-1 \\end{pmatrix} e^{-\\beta n_0 t}(1 - e^{-\\beta t})^{n - n_0}$$\n",
    "\n",
    "for each $n \\geq n_0$. This is a neg. binomial distribution. With the probabilities, the expected value, variance, and coefficient of variation can be obtained. Here is the expected value: \n",
    "\n",
    "$$ E[N(t)] \\equiv \\sum^{\\infty}_{n = 0} np_n(t) = n_0e^{\\beta t}$$\n",
    "\n",
    "If $\\beta$ is positive, the mena population size $E[N(t)]$ increases exponentially, the variance also increases. The coeff. of var. tends towards a constant that depends on the initial population size. If the $n_0$ is large, the coeff. is small. If the initial population size is instead small, any single run of the stochastic process is likely to differ greatly from the corresponding determinisitc process. \n",
    "\n",
    "#### Linear birth & death process\n",
    "\n",
    "To incorporate some death into our process, we can assume for each individual: \n",
    "\n",
    "$$ P \\{ \\text{1 birth in } (t,\\; t + \\Delta t]\\; |\\; N(t) = 1\\} = \\beta \\Delta t + o(\\Delta t),$$\n",
    "$$ P \\{ \\text{1 death in } (t,\\; t + \\Delta t]\\; |\\; N(t) = 1\\} = \\mu \\Delta t + o(\\Delta t),$$ \n",
    "$$ P \\{ \\text{no change in } (t,\\; t + \\Delta t]\\; |\\; N(t) = 1\\} = 1 - (\\beta + \\mu) \\Delta t + o(\\Delta t).$$\n",
    "\n",
    "Here, the probability of several events is taken to be $o(\\Delta t)$. Every individual is still independent, so \n",
    "\n",
    "$$P \\{ \\text{1 birth in } (t,\\; t + \\Delta t]\\; |\\; N(t) = n\\} = n[\\beta \\Delta t + o(\\Delta t)]x[1  -(\\beta + \\mu)\\Delta t + o(\\Delta t)]^{n-1}$$\n",
    "\n",
    "And the results for birth and death separately can be found. We can now find an equation for the probability $p_n(t)$, that the population is of size $n$. Here, there can be $n$ individuals at time $t + \\Delta t$ if there were $n$ individuals and no change happened, if there were $n+1$ individuals and a death, or $n-1$ and a birth. So, \n",
    "\n",
    "$$p_n(t + \\Delta t) = (n - 1)\\beta\\Delta t p_{n-1}(t) + (n+1)\\mu\\Delta t p_{n+1}(t)+[1 - n(\\beta + \\mu)\\Delta t]p_n(t) + o(\\Delta t),$$\n",
    "\n",
    "which after some algebra and taking a limit, becomes: \n",
    "\n",
    "$$\\frac{dp_n}{dt} = \\beta(n-1)p_{n-1} + \\mu(n+1)p_{n+1} - (\\beta + \\mu)np_n$$\n",
    "\n",
    "and again augmented with the initial condition \n",
    "\n",
    "$$ p_n(0) = \n",
    "\\begin{cases}\n",
    "1,\\ \\ n = n_0,\\\\\n",
    "0, \\ \\ n \\neq n_0 \\\\\n",
    "\\end{cases}$$\n",
    "\n",
    "and the stipulation that $p_n(t) = 0$ for $n<0$. \n",
    "\n",
    "A note that while the birth & death process is very easy to derrive, it is harder to solve, because the rate of change of $p_n(t)$ dpends not only on $p_n(t)$ and $p_{n-1}(t)$, but also on the as yes unsolved for $p_{n+1}(t)$. To do this, we solve for all the $p_n(t)$ as one. For this we need a probability generating function:\n",
    "\n",
    "$$F(t,x) = \\sum^{\\infty}_{n = 0} p_n(t) x^n$$\n",
    "\n",
    "The probabilities $p_n(t)$ are functions of time, so $F(t,x)$ is a bivariate function. But, we will often think of $F$ as a univariate function of $x$, with the probabilities as the coefficients in the power series expansion of this function. since every $p_n(t)$ is $\\leq$ 1, the generating function converges for all $|x| < 1$. There are some properties of the probability generating function $F(t,x)$ worth highlighting: \n",
    "1. The probability of being extinct at time $t$, $p_0(t)$ is given by $$p_0(t) = F(t,0)$$\n",
    "2. Taylor's theorem says we can expand a funciton in terms of its derrivatives at zero. Thus, by calculating derrivatives, we can find the sequence of probabilities associated with a given probability generating function,\n",
    "\n",
    "$$ p_n(t) = \\frac{1}{n!}\\frac{\\partial ^n F}{\\partial x^n}\\biggr\\rvert_{x = 0}$$\n",
    "3. The probability generating function allows us to compute the average or expected value of $N(t)$ without tedious calculations involving discrete sums: $$ E[N(t)] \\equiv \\sum_{n=0} np_n(t) = \\frac{\\partial F}{\\partial x}\\biggr\\rvert_{x = 1}$$\n",
    "4. The probability generating function also allows us to compute the variance of $N(t)$ with only a little more effort. In particular, $$\\frac{\\partial ^2F}{\\partial x^2}\\biggr\\rvert_{x = 1} = \\sum_{n=0}(n^2-n)p_n(t) \\\\ = E[N^2(t)] - E[N(t)]$$, where $$Var[N(t)] = E[N^2(t)]-E[N^2(t)]$$, so that $$Var[N(t)] = \\begin{bmatrix}\\frac{\\partial ^2 F}{\\partial x^2}+ \\frac{\\partial F}{\\partial x} - (\\frac{\\partial F}{\\partial x})^2\\end{bmatrix}_{x = 1}$$\n",
    "\n",
    "In other words, we can compute all the probabilities and statistics that we need in a straightforward way with the probability generating function. The function $F(t,x)$ arises as a solution to a PDE. If we differentite the generating function with respect to t, $$\\frac{\\partial F}{\\partial t} = \\sum^{\\infty}_{n=0} \\dot{p_n}x^n,$$ and then after some gross math, we arrive at the partial differential equation, wrote equivalently with $$\\frac{\\partial F}{\\partial t} = [\\beta x^2 - (\\beta + \\mu)x + \\mu]\\frac{\\partial F}{\\partial t},$$ and $$\\frac{\\partial F}{\\partial t} + (\\beta x -\\mu)(1-x)\\frac{\\partial F}{\\partial t} = 0.$$\n",
    "\n",
    "This PDE has the initial condition $$F(0, x) = x^{n_0}$$since the population starts at $n_0$ with probability 1. \n",
    "\n",
    "**Note here that there is a description in the text of solving the PDE above by *method of characteristics* but I ignore it here.** \n",
    "\n",
    "But solving the second equivalency above with the iniital condition above, has the solution: \n",
    "\n",
    "$$ F(t,x) = \n",
    "\\begin{cases}\n",
    "\\left[\\frac{\\mu(1-x)e^{r} - (\\mu - \\beta x)}{\\beta(1-x)e^{rt} - (\\mu - \\beta x)}\\right]^{n_0},\\ \\ \\beta \\neq \\mu,\\\\\n",
    "\\left[ \\frac{\\beta t + (1 - \\beta t)x}{(1+\\beta t) - \\beta t x} \\right]^{n_0}, \\ \\ \\beta = \\mu \\\\\n",
    "\\end{cases}$$and the probability of being extinct at time $t$ is \n",
    "\n",
    "$$ p_0(t) = F(t,0) = \n",
    "\\begin{cases}\n",
    "\\left[\\frac{\\mu (e^{rt} - 1)}{\\beta e^{rt} - \\mu)}\\right]^{n_0},\\ \\ \\beta \\neq \\mu,\\\\\n",
    "\\left( \\frac{\\beta t}{1+\\beta t} \\right)^{n_0}, \\ \\ \\beta = \\mu \\\\\n",
    "\\end{cases}$$\n",
    "\n"
   ]
  }
 ],
 "metadata": {
  "kernelspec": {
   "display_name": "Python 3",
   "language": "python",
   "name": "python3"
  },
  "language_info": {
   "codemirror_mode": {
    "name": "ipython",
    "version": 3
   },
   "file_extension": ".py",
   "mimetype": "text/x-python",
   "name": "python",
   "nbconvert_exporter": "python",
   "pygments_lexer": "ipython3",
   "version": "3.7.4"
  }
 },
 "nbformat": 4,
 "nbformat_minor": 2
}
