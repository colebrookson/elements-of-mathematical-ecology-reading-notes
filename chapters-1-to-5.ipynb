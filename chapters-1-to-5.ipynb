{
 "cells": [
  {
   "cell_type": "markdown",
   "metadata": {},
   "source": [
    "## Mathematical Ecology (Kot 2010)"
   ]
  },
  {
   "cell_type": "code",
   "execution_count": 12,
   "metadata": {},
   "outputs": [],
   "source": [
    "#Get relevant modules\n",
    "import sympy as sym\n",
    "import pandas as pd\n",
    "import numpy as np\n",
    "\n",
    "#declare variable to use as letter in functions\n",
    "N, r = sp.symbols('N, r')"
   ]
  },
  {
   "cell_type": "code",
   "execution_count": 8,
   "metadata": {},
   "outputs": [
    {
     "data": {
      "text/latex": [
       "$\\displaystyle 5 N^{4}$"
      ],
      "text/plain": [
       "5*N**4"
      ]
     },
     "execution_count": 8,
     "metadata": {},
     "output_type": "execute_result"
    }
   ],
   "source": [
    "sym.diff(N**5) #derrivative of N^5"
   ]
  },
  {
   "cell_type": "markdown",
   "metadata": {},
   "source": [
    "### Chapter 1 - Exponential, Logistic, and Gompertz Growth\n",
    "\n",
    "This is all review, but will use this to get the hang of doing this in Python. \n",
    "\n",
    "Simple exponential growth can be written as $\\frac{dN}{dt} = rN$, where the simple integration leads to $N(t) = N_0e^{rt}$. Here, the per capita growth rate remains constant for all population sizes: crowding has no effect on these individuals. \n",
    "\n",
    "In this system, because it is unbounded in growth, there is only one equilibrium, $N* = 0$. As long as $r > 0$, the equilibrium is unstable, and for $r < 0$, the equilibrium is asymptotically stable. \n",
    "\n",
    "However, this is a simplistic model and not one well-equiped to bound population growth, either by density-dependence (intrinsic) nor by environmental factors (extrinsic). If we consider a model where the per capita growth rate falls linearly with population size, this can be thought of as density-dependent regulation, and formulated as $\\frac{dN}{dt} = rN(1-\\frac{N}{K})$. This is known as the Pearl-Verhulst equation, and has an exact anlytical solution. The two equilibria, N* = 0 and N* = K, both have growth rates = 0. Near N* = 0, $N^2/K$ is small compared to N, so that $\\frac{dN}{dt} = rN$. For r > 0, N* = 0 is unstable.  "
   ]
  },
  {
   "cell_type": "markdown",
   "metadata": {},
   "source": []
  },
  {
   "cell_type": "code",
   "execution_count": null,
   "metadata": {},
   "outputs": [],
   "source": []
  }
 ],
 "metadata": {
  "kernelspec": {
   "display_name": "Python 3",
   "language": "python",
   "name": "python3"
  },
  "language_info": {
   "codemirror_mode": {
    "name": "ipython",
    "version": 3
   },
   "file_extension": ".py",
   "mimetype": "text/x-python",
   "name": "python",
   "nbconvert_exporter": "python",
   "pygments_lexer": "ipython3",
   "version": "3.7.4"
  }
 },
 "nbformat": 4,
 "nbformat_minor": 2
}
